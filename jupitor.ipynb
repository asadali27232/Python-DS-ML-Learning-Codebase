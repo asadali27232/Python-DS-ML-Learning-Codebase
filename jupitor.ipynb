{
 "cells": [
  {
   "cell_type": "markdown",
   "metadata": {},
   "source": [
    "### My Jupitor First Notebook\n",
    "I am learning how to use jupitor notebook. My name is **Asad Ali** and I am a **Data Scientist**. In Future I am going to use jupitor notebook for my:\n",
    "\n",
    "- Data Science Projects\n",
    "- Machine Learning Projects\n",
    "- Image Processing Projects\n",
    "- Deep Learning Projects\n",
    "\n",
    "I hope I will be able to learn jupitor notebook in a better way and use it to improve my productivity."
   ]
  },
  {
   "cell_type": "code",
   "execution_count": null,
   "metadata": {},
   "outputs": [],
   "source": [
    "print(\"Hello Jupitor Family!\")\n",
    "print(\"I am new here please welcome me warmily :)\")"
   ]
  },
  {
   "cell_type": "markdown",
   "metadata": {},
   "source": [
    "##### My First List in Juptior Notebook"
   ]
  },
  {
   "cell_type": "code",
   "execution_count": null,
   "metadata": {},
   "outputs": [],
   "source": [
    "countries = [\"India\", \"USA\", \"UK\", \"Canada\", \"Australia\", \"New Zealand\"]\n",
    "cities = [\"Delhi\", \"New York\", \"London\", \"Ottawa\", \"Canberra\", \"Wellington\"]\n",
    "\n",
    "print(countries)\n",
    "print(cities)"
   ]
  },
  {
   "cell_type": "markdown",
   "metadata": {},
   "source": [
    "##### My First numpy array in Juptior Notebook"
   ]
  },
  {
   "cell_type": "code",
   "execution_count": null,
   "metadata": {},
   "outputs": [],
   "source": [
    "import numpy as np\n",
    "np_countries = np.array(countries)\n",
    "np_cities = np.array(cities)\n",
    "\n",
    "print(np_countries)\n",
    "print(np_cities)"
   ]
  },
  {
   "cell_type": "code",
   "execution_count": null,
   "metadata": {},
   "outputs": [],
   "source": [
    "import math\n",
    "\n",
    "math.sqrt(25)"
   ]
  }
 ],
 "metadata": {
  "kernelspec": {
   "display_name": "Python 3",
   "language": "python",
   "name": "python3"
  },
  "language_info": {
   "codemirror_mode": {
    "name": "ipython",
    "version": 3
   },
   "file_extension": ".py",
   "mimetype": "text/x-python",
   "name": "python",
   "nbconvert_exporter": "python",
   "pygments_lexer": "ipython3",
   "version": "3.11.2"
  },
  "orig_nbformat": 4
 },
 "nbformat": 4,
 "nbformat_minor": 2
}
