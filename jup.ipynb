{
 "cells": [
  {
   "cell_type": "markdown",
   "metadata": {},
   "source": [
    "### My First Notebook\n",
    "I am learning how to use jupitor notebook. My name is **Asad Ali** and I am a **Data Scientist**. In Future I am going to use jupitor notebook for my:\n",
    "\n",
    "- Data Science Projects\n",
    "- Machine Learning Projects\n",
    "- Image Processing Projects\n",
    "- Deep Learning Projects\n",
    "\n",
    "I hope I will be able to learn jupitor notebook in a better way and use it to improve my productivity."
   ]
  },
  {
   "cell_type": "code",
   "execution_count": 1,
   "metadata": {},
   "outputs": [
    {
     "name": "stdout",
     "output_type": "stream",
     "text": [
      "Hello Jupitor Family!\n",
      "I am new here please welcome me warmily :)\n"
     ]
    }
   ],
   "source": [
    "print(\"Hello Jupitor Family!\")\n",
    "print(\"I am new here please welcome me warmily :)\")"
   ]
  },
  {
   "cell_type": "markdown",
   "metadata": {},
   "source": [
    "##### My First List in Juptior Notebook"
   ]
  },
  {
   "cell_type": "code",
   "execution_count": 3,
   "metadata": {},
   "outputs": [
    {
     "name": "stdout",
     "output_type": "stream",
     "text": [
      "['India', 'USA', 'UK', 'Canada', 'Australia', 'New Zealand']\n",
      "['Delhi', 'New York', 'London', 'Ottawa', 'Canberra', 'Wellington']\n"
     ]
    }
   ],
   "source": [
    "countries = [\"India\", \"USA\", \"UK\", \"Canada\", \"Australia\", \"New Zealand\"]\n",
    "cities = [\"Delhi\", \"New York\", \"London\", \"Ottawa\", \"Canberra\", \"Wellington\"]\n",
    "\n",
    "print(countries)\n",
    "print(cities)"
   ]
  },
  {
   "cell_type": "markdown",
   "metadata": {},
   "source": [
    "##### My First numpy array in Juptior Notebook"
   ]
  },
  {
   "cell_type": "code",
   "execution_count": 6,
   "metadata": {},
   "outputs": [
    {
     "ename": "ModuleNotFoundError",
     "evalue": "No module named 'numpy'",
     "output_type": "error",
     "traceback": [
      "\u001b[1;31m---------------------------------------------------------------------------\u001b[0m",
      "\u001b[1;31mModuleNotFoundError\u001b[0m                       Traceback (most recent call last)",
      "Cell \u001b[1;32mIn[6], line 1\u001b[0m\n\u001b[1;32m----> 1\u001b[0m \u001b[39mimport\u001b[39;00m \u001b[39mnumpy\u001b[39;00m \u001b[39mas\u001b[39;00m \u001b[39mnp\u001b[39;00m\n\u001b[0;32m      2\u001b[0m np_countries \u001b[39m=\u001b[39m np\u001b[39m.\u001b[39marray(countries)\n\u001b[0;32m      3\u001b[0m np_cities \u001b[39m=\u001b[39m np\u001b[39m.\u001b[39marray(cities)\n",
      "\u001b[1;31mModuleNotFoundError\u001b[0m: No module named 'numpy'"
     ]
    }
   ],
   "source": [
    "import numpy as np\n",
    "np_countries = np.array(countries)\n",
    "np_cities = np.array(cities)\n",
    "\n",
    "print(np_countries)\n",
    "print(np_cities)"
   ]
  },
  {
   "cell_type": "code",
   "execution_count": 5,
   "metadata": {},
   "outputs": [
    {
     "data": {
      "text/plain": [
       "5.0"
      ]
     },
     "execution_count": 5,
     "metadata": {},
     "output_type": "execute_result"
    }
   ],
   "source": [
    "import math\n",
    "\n",
    "math.sqrt(25)"
   ]
  }
 ],
 "metadata": {
  "kernelspec": {
   "display_name": "Python 3",
   "language": "python",
   "name": "python3"
  },
  "language_info": {
   "codemirror_mode": {
    "name": "ipython",
    "version": 3
   },
   "file_extension": ".py",
   "mimetype": "text/x-python",
   "name": "python",
   "nbconvert_exporter": "python",
   "pygments_lexer": "ipython3",
   "version": "3.11.4"
  },
  "orig_nbformat": 4
 },
 "nbformat": 4,
 "nbformat_minor": 2
}
